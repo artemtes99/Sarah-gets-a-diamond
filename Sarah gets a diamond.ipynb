{
 "cells": [
  {
   "cell_type": "markdown",
   "id": "a7800fd5",
   "metadata": {},
   "source": [
    "### Импортируем нужные билиотеки"
   ]
  },
  {
   "cell_type": "code",
   "execution_count": 1,
   "id": "bceba65c",
   "metadata": {
    "scrolled": true
   },
   "outputs": [
    {
     "name": "stdout",
     "output_type": "stream",
     "text": [
      "Populating the interactive namespace from numpy and matplotlib\n"
     ]
    }
   ],
   "source": [
    "import numpy as np\n",
    "import pandas as pd\n",
    "import scipy as scipy\n",
    "\n",
    "from sklearn import model_selection, datasets, linear_model, metrics\n",
    "from sklearn.linear_model import LinearRegression\n",
    "from sklearn.metrics import mean_squared_error\n",
    "from sklearn.preprocessing import PolynomialFeatures\n",
    "from scipy import stats\n",
    "\n",
    "import matplotlib.pyplot as plt\n",
    "import seaborn as sns\n",
    "%matplotlib inline\n",
    "%pylab inline"
   ]
  },
  {
   "cell_type": "markdown",
   "id": "5eb74950",
   "metadata": {},
   "source": [
    "### Загрузка датасета с данными"
   ]
  },
  {
   "cell_type": "markdown",
   "id": "78fefc9b",
   "metadata": {},
   "source": [
    "Сразу разобьем данные на тестовые(те, что надо спрогнозировать) и на те, что нужны для обучения модели"
   ]
  },
  {
   "cell_type": "code",
   "execution_count": 2,
   "id": "af6c1200",
   "metadata": {},
   "outputs": [],
   "source": [
    "train = pd.read_csv('Sarah-gets-a-diamond-data_1.csv', header=2, nrows=4500)"
   ]
  },
  {
   "cell_type": "code",
   "execution_count": 3,
   "id": "5d180dff",
   "metadata": {
    "scrolled": false
   },
   "outputs": [],
   "source": [
    "test = pd.read_csv('Sarah-gets-a-diamond-data_1.csv', header=2)"
   ]
  },
  {
   "cell_type": "code",
   "execution_count": 4,
   "id": "2985e87c",
   "metadata": {},
   "outputs": [],
   "source": [
    "test = pd.concat([test, train]).drop_duplicates(keep=False)"
   ]
  },
  {
   "cell_type": "code",
   "execution_count": 5,
   "id": "28df9d0c",
   "metadata": {},
   "outputs": [
    {
     "data": {
      "text/html": [
       "<div>\n",
       "<style scoped>\n",
       "    .dataframe tbody tr th:only-of-type {\n",
       "        vertical-align: middle;\n",
       "    }\n",
       "\n",
       "    .dataframe tbody tr th {\n",
       "        vertical-align: top;\n",
       "    }\n",
       "\n",
       "    .dataframe thead th {\n",
       "        text-align: right;\n",
       "    }\n",
       "</style>\n",
       "<table border=\"1\" class=\"dataframe\">\n",
       "  <thead>\n",
       "    <tr style=\"text-align: right;\">\n",
       "      <th></th>\n",
       "      <th>ID</th>\n",
       "      <th>Carat Weight</th>\n",
       "      <th>Cut</th>\n",
       "      <th>Color</th>\n",
       "      <th>Clarity</th>\n",
       "      <th>Polish</th>\n",
       "      <th>Symmetry</th>\n",
       "      <th>Report</th>\n",
       "      <th>Price</th>\n",
       "    </tr>\n",
       "  </thead>\n",
       "  <tbody>\n",
       "    <tr>\n",
       "      <th>0</th>\n",
       "      <td>1</td>\n",
       "      <td>1.10</td>\n",
       "      <td>Ideal</td>\n",
       "      <td>H</td>\n",
       "      <td>SI1</td>\n",
       "      <td>VG</td>\n",
       "      <td>EX</td>\n",
       "      <td>GIA</td>\n",
       "      <td>5169.0</td>\n",
       "    </tr>\n",
       "    <tr>\n",
       "      <th>1</th>\n",
       "      <td>2</td>\n",
       "      <td>0.83</td>\n",
       "      <td>Ideal</td>\n",
       "      <td>H</td>\n",
       "      <td>VS1</td>\n",
       "      <td>ID</td>\n",
       "      <td>ID</td>\n",
       "      <td>AGSL</td>\n",
       "      <td>3470.0</td>\n",
       "    </tr>\n",
       "    <tr>\n",
       "      <th>2</th>\n",
       "      <td>3</td>\n",
       "      <td>0.85</td>\n",
       "      <td>Ideal</td>\n",
       "      <td>H</td>\n",
       "      <td>SI1</td>\n",
       "      <td>EX</td>\n",
       "      <td>EX</td>\n",
       "      <td>GIA</td>\n",
       "      <td>3183.0</td>\n",
       "    </tr>\n",
       "    <tr>\n",
       "      <th>3</th>\n",
       "      <td>4</td>\n",
       "      <td>0.91</td>\n",
       "      <td>Ideal</td>\n",
       "      <td>E</td>\n",
       "      <td>SI1</td>\n",
       "      <td>VG</td>\n",
       "      <td>VG</td>\n",
       "      <td>GIA</td>\n",
       "      <td>4370.0</td>\n",
       "    </tr>\n",
       "    <tr>\n",
       "      <th>4</th>\n",
       "      <td>5</td>\n",
       "      <td>0.83</td>\n",
       "      <td>Ideal</td>\n",
       "      <td>G</td>\n",
       "      <td>SI1</td>\n",
       "      <td>EX</td>\n",
       "      <td>EX</td>\n",
       "      <td>GIA</td>\n",
       "      <td>3171.0</td>\n",
       "    </tr>\n",
       "  </tbody>\n",
       "</table>\n",
       "</div>"
      ],
      "text/plain": [
       "   ID  Carat Weight    Cut Color Clarity Polish Symmetry Report   Price\n",
       "0   1          1.10  Ideal     H     SI1     VG       EX    GIA  5169.0\n",
       "1   2          0.83  Ideal     H     VS1     ID       ID   AGSL  3470.0\n",
       "2   3          0.85  Ideal     H     SI1     EX       EX    GIA  3183.0\n",
       "3   4          0.91  Ideal     E     SI1     VG       VG    GIA  4370.0\n",
       "4   5          0.83  Ideal     G     SI1     EX       EX    GIA  3171.0"
      ]
     },
     "execution_count": 5,
     "metadata": {},
     "output_type": "execute_result"
    }
   ],
   "source": [
    "train.head(5)"
   ]
  },
  {
   "cell_type": "code",
   "execution_count": 6,
   "id": "aa2d2ae4",
   "metadata": {
    "scrolled": true
   },
   "outputs": [
    {
     "name": "stdout",
     "output_type": "stream",
     "text": [
      "<class 'pandas.core.frame.DataFrame'>\n",
      "RangeIndex: 4500 entries, 0 to 4499\n",
      "Data columns (total 9 columns):\n",
      " #   Column        Non-Null Count  Dtype  \n",
      "---  ------        --------------  -----  \n",
      " 0   ID            4500 non-null   int64  \n",
      " 1   Carat Weight  4500 non-null   float64\n",
      " 2   Cut           4500 non-null   object \n",
      " 3   Color         4499 non-null   object \n",
      " 4   Clarity       4500 non-null   object \n",
      " 5   Polish        4500 non-null   object \n",
      " 6   Symmetry      4500 non-null   object \n",
      " 7   Report        4500 non-null   object \n",
      " 8   Price         4500 non-null   float64\n",
      "dtypes: float64(2), int64(1), object(6)\n",
      "memory usage: 316.5+ KB\n"
     ]
    }
   ],
   "source": [
    "train.info()"
   ]
  },
  {
   "cell_type": "markdown",
   "id": "5b92f54b",
   "metadata": {},
   "source": [
    "Как можно видеть, все данные представлены в нужных типах, переводить ничего не нужно.\n",
    "Сразу удалим ненужные столбцы в обоих датасетах"
   ]
  },
  {
   "cell_type": "code",
   "execution_count": 7,
   "id": "532ecdbf",
   "metadata": {},
   "outputs": [],
   "source": [
    "train.drop(columns = 'ID', axis = 1, inplace = True)"
   ]
  },
  {
   "cell_type": "code",
   "execution_count": 8,
   "id": "690b7344",
   "metadata": {},
   "outputs": [],
   "source": [
    "test.drop(columns = 'ID', axis = 1, inplace = True)"
   ]
  },
  {
   "cell_type": "markdown",
   "id": "61cbfabb",
   "metadata": {},
   "source": [
    "Некоторые данные в датасетах являются категориальными, поэтому для более понятной интерпретации сопоставим их с числами "
   ]
  },
  {
   "cell_type": "code",
   "execution_count": 9,
   "id": "09e95c83",
   "metadata": {},
   "outputs": [],
   "source": [
    "cut_map = {'Poor': 1, \n",
    "           'Fair': 2, \n",
    "           'Good': 3,\n",
    "           'Very Good': 4,\n",
    "           'Ideal': 5,\n",
    "           'Signature-Ideal': 6}"
   ]
  },
  {
   "cell_type": "code",
   "execution_count": 10,
   "id": "7cc7769e",
   "metadata": {},
   "outputs": [],
   "source": [
    "color_map = {'J': 1,\n",
    "             'I': 2,\n",
    "             'H': 3,\n",
    "             'G': 4,\n",
    "             'F': 5,\n",
    "             'E': 6,\n",
    "             'D': 7}"
   ]
  },
  {
   "cell_type": "code",
   "execution_count": 11,
   "id": "8c654d0d",
   "metadata": {},
   "outputs": [],
   "source": [
    "clarity_map = {'SI1': 1, \n",
    "               'VS2': 2, \n",
    "               'VS1': 3,\n",
    "               'VVS2': 4,\n",
    "               'VVS1': 5,\n",
    "               'IF': 6,\n",
    "               'FL': 7}"
   ]
  },
  {
   "cell_type": "code",
   "execution_count": 12,
   "id": "1a2e6a97",
   "metadata": {},
   "outputs": [],
   "source": [
    "polish_map = {'G': 1, \n",
    "              'VG': 2, \n",
    "              'EX': 3, \n",
    "              'ID': 4}"
   ]
  },
  {
   "cell_type": "code",
   "execution_count": 13,
   "id": "3081cff3",
   "metadata": {},
   "outputs": [],
   "source": [
    "symmetry_map = {'G': 1,\n",
    "                'VG': 2,\n",
    "                'EX': 3,\n",
    "                'ID': 4}"
   ]
  },
  {
   "cell_type": "code",
   "execution_count": 14,
   "id": "b53624e3",
   "metadata": {},
   "outputs": [],
   "source": [
    "train['Cut'] = train['Cut'].map(cut_map)\n",
    "train['Color'] = train['Color'].map(color_map)\n",
    "train['Polish'] = train['Polish'].map(polish_map)\n",
    "train['Symmetry'] = train['Symmetry'].map(symmetry_map)\n",
    "train['Clarity'] = train['Clarity'].map(clarity_map)"
   ]
  },
  {
   "cell_type": "code",
   "execution_count": 15,
   "id": "ea085ae1",
   "metadata": {},
   "outputs": [],
   "source": [
    "test['Cut'] = test['Cut'].map(cut_map)\n",
    "test['Color'] = test['Color'].map(color_map)\n",
    "test['Polish'] = test['Polish'].map(polish_map)\n",
    "test['Symmetry'] = test['Symmetry'].map(symmetry_map)\n",
    "test['Clarity'] = test['Clarity'].map(clarity_map)"
   ]
  },
  {
   "cell_type": "markdown",
   "id": "9a14ed52",
   "metadata": {},
   "source": [
    "Из столбца Report мы вряд ли что-то сможем взять для модели, поэтому просто определим значения в нем метками"
   ]
  },
  {
   "cell_type": "code",
   "execution_count": 16,
   "id": "70873ddc",
   "metadata": {
    "scrolled": true
   },
   "outputs": [],
   "source": [
    "train = pd.get_dummies(train, drop_first=True)\n"
   ]
  },
  {
   "cell_type": "code",
   "execution_count": 17,
   "id": "79bb3e6b",
   "metadata": {},
   "outputs": [],
   "source": [
    "test = pd.get_dummies(test, drop_first=True)\n"
   ]
  },
  {
   "cell_type": "markdown",
   "id": "0f2ac1af",
   "metadata": {},
   "source": [
    "Построим гистограмму и \"ящик с усами\" для целевой переменной (цены) и проанализируем"
   ]
  },
  {
   "cell_type": "code",
   "execution_count": 18,
   "id": "726695f6",
   "metadata": {
    "scrolled": false
   },
   "outputs": [
    {
     "name": "stderr",
     "output_type": "stream",
     "text": [
      "C:\\ProgramData\\Anaconda3\\lib\\site-packages\\seaborn\\distributions.py:2619: FutureWarning: `distplot` is a deprecated function and will be removed in a future version. Please adapt your code to use either `displot` (a figure-level function with similar flexibility) or `histplot` (an axes-level function for histograms).\n",
      "  warnings.warn(msg, FutureWarning)\n",
      "C:\\ProgramData\\Anaconda3\\lib\\site-packages\\seaborn\\_decorators.py:36: FutureWarning: Pass the following variable as a keyword arg: x. From version 0.12, the only valid positional argument will be `data`, and passing other arguments without an explicit keyword will result in an error or misinterpretation.\n",
      "  warnings.warn(\n"
     ]
    },
    {
     "data": {
      "text/plain": [
       "Text(0.5, 1.0, '\"Ящик с усами\" цены')"
      ]
     },
     "execution_count": 18,
     "metadata": {},
     "output_type": "execute_result"
    },
    {
     "data": {
      "image/png": "[encoded data removed]",
      "text/plain": [
       "<Figure size 1152x432 with 2 Axes>"
      ]
     },
     "metadata": {
      "needs_background": "light"
     },
     "output_type": "display_data"
    }
   ],
   "source": [
    "plt.figure(figsize = (16, 6))\n",
    "\n",
    "pylab.subplot(1,2,1)\n",
    "sns.distplot(train['Price'])\n",
    "pylab.title('Гистограмма и кривая распределения цены')\n",
    "\n",
    "pylab.subplot(1,2,2)\n",
    "sns.boxplot(train['Price'])\n",
    "pylab.title('\"Ящик с усами\" цены')"
   ]
  },
  {
   "cell_type": "markdown",
   "id": "79a7006f",
   "metadata": {},
   "source": [
    "**Анализ графиков:**\n",
    "1. В столбце Price присутствуют отрицательные значения;\n",
    "2. Есть явная асимметрия в правую сторону;\n",
    "3. По \"ящику с усами\" можно увидеть:\n",
    "      * большинство значений больше медианы;\n",
    "      * много выбросов;\n",
    "4. Распределение вероятнее всего не нормальное"
   ]
  },
  {
   "cell_type": "code",
   "execution_count": 19,
   "id": "a72a0885",
   "metadata": {},
   "outputs": [
    {
     "data": {
      "text/plain": [
       "2.393144731645775"
      ]
     },
     "execution_count": 19,
     "metadata": {},
     "output_type": "execute_result"
    }
   ],
   "source": [
    "train['Price'].skew() # посчитаем значение асимметрии"
   ]
  },
  {
   "cell_type": "markdown",
   "id": "6dbd7bb7",
   "metadata": {},
   "source": [
    "Как видим, оно соизмеримо большое для такого количества выбросов"
   ]
  },
  {
   "cell_type": "markdown",
   "id": "38694589",
   "metadata": {},
   "source": [
    "Вначале избавимся от отрицательных значений, заменив их средними"
   ]
  },
  {
   "cell_type": "code",
   "execution_count": 20,
   "id": "9248bc54",
   "metadata": {
    "scrolled": false
   },
   "outputs": [
    {
     "data": {
      "text/html": [
       "<div>\n",
       "<style scoped>\n",
       "    .dataframe tbody tr th:only-of-type {\n",
       "        vertical-align: middle;\n",
       "    }\n",
       "\n",
       "    .dataframe tbody tr th {\n",
       "        vertical-align: top;\n",
       "    }\n",
       "\n",
       "    .dataframe thead th {\n",
       "        text-align: right;\n",
       "    }\n",
       "</style>\n",
       "<table border=\"1\" class=\"dataframe\">\n",
       "  <thead>\n",
       "    <tr style=\"text-align: right;\">\n",
       "      <th></th>\n",
       "      <th>Carat Weight</th>\n",
       "      <th>Cut</th>\n",
       "      <th>Color</th>\n",
       "      <th>Clarity</th>\n",
       "      <th>Polish</th>\n",
       "      <th>Symmetry</th>\n",
       "      <th>Price</th>\n",
       "      <th>Report_GIA</th>\n",
       "    </tr>\n",
       "  </thead>\n",
       "  <tbody>\n",
       "    <tr>\n",
       "      <th>0</th>\n",
       "      <td>1.10</td>\n",
       "      <td>5.0</td>\n",
       "      <td>3.0</td>\n",
       "      <td>1</td>\n",
       "      <td>2.0</td>\n",
       "      <td>3.0</td>\n",
       "      <td>5169.0</td>\n",
       "      <td>1</td>\n",
       "    </tr>\n",
       "    <tr>\n",
       "      <th>1</th>\n",
       "      <td>0.83</td>\n",
       "      <td>5.0</td>\n",
       "      <td>3.0</td>\n",
       "      <td>3</td>\n",
       "      <td>4.0</td>\n",
       "      <td>4.0</td>\n",
       "      <td>3470.0</td>\n",
       "      <td>0</td>\n",
       "    </tr>\n",
       "    <tr>\n",
       "      <th>2</th>\n",
       "      <td>0.85</td>\n",
       "      <td>5.0</td>\n",
       "      <td>3.0</td>\n",
       "      <td>1</td>\n",
       "      <td>3.0</td>\n",
       "      <td>3.0</td>\n",
       "      <td>3183.0</td>\n",
       "      <td>1</td>\n",
       "    </tr>\n",
       "    <tr>\n",
       "      <th>3</th>\n",
       "      <td>0.91</td>\n",
       "      <td>5.0</td>\n",
       "      <td>6.0</td>\n",
       "      <td>1</td>\n",
       "      <td>2.0</td>\n",
       "      <td>2.0</td>\n",
       "      <td>4370.0</td>\n",
       "      <td>1</td>\n",
       "    </tr>\n",
       "    <tr>\n",
       "      <th>4</th>\n",
       "      <td>0.83</td>\n",
       "      <td>5.0</td>\n",
       "      <td>4.0</td>\n",
       "      <td>1</td>\n",
       "      <td>3.0</td>\n",
       "      <td>3.0</td>\n",
       "      <td>3171.0</td>\n",
       "      <td>1</td>\n",
       "    </tr>\n",
       "    <tr>\n",
       "      <th>...</th>\n",
       "      <td>...</td>\n",
       "      <td>...</td>\n",
       "      <td>...</td>\n",
       "      <td>...</td>\n",
       "      <td>...</td>\n",
       "      <td>...</td>\n",
       "      <td>...</td>\n",
       "      <td>...</td>\n",
       "    </tr>\n",
       "    <tr>\n",
       "      <th>4495</th>\n",
       "      <td>0.90</td>\n",
       "      <td>4.0</td>\n",
       "      <td>5.0</td>\n",
       "      <td>1</td>\n",
       "      <td>2.0</td>\n",
       "      <td>2.0</td>\n",
       "      <td>4095.0</td>\n",
       "      <td>1</td>\n",
       "    </tr>\n",
       "    <tr>\n",
       "      <th>4496</th>\n",
       "      <td>1.01</td>\n",
       "      <td>3.0</td>\n",
       "      <td>2.0</td>\n",
       "      <td>1</td>\n",
       "      <td>2.0</td>\n",
       "      <td>2.0</td>\n",
       "      <td>4078.0</td>\n",
       "      <td>1</td>\n",
       "    </tr>\n",
       "    <tr>\n",
       "      <th>4497</th>\n",
       "      <td>0.90</td>\n",
       "      <td>4.0</td>\n",
       "      <td>7.0</td>\n",
       "      <td>1</td>\n",
       "      <td>2.0</td>\n",
       "      <td>1.0</td>\n",
       "      <td>4497.0</td>\n",
       "      <td>1</td>\n",
       "    </tr>\n",
       "    <tr>\n",
       "      <th>4498</th>\n",
       "      <td>1.21</td>\n",
       "      <td>4.0</td>\n",
       "      <td>4.0</td>\n",
       "      <td>1</td>\n",
       "      <td>2.0</td>\n",
       "      <td>2.0</td>\n",
       "      <td>6439.0</td>\n",
       "      <td>1</td>\n",
       "    </tr>\n",
       "    <tr>\n",
       "      <th>4499</th>\n",
       "      <td>1.50</td>\n",
       "      <td>6.0</td>\n",
       "      <td>2.0</td>\n",
       "      <td>6</td>\n",
       "      <td>4.0</td>\n",
       "      <td>4.0</td>\n",
       "      <td>12725.0</td>\n",
       "      <td>0</td>\n",
       "    </tr>\n",
       "  </tbody>\n",
       "</table>\n",
       "<p>4500 rows × 8 columns</p>\n",
       "</div>"
      ],
      "text/plain": [
       "      Carat Weight  Cut  Color  Clarity  Polish  Symmetry    Price  Report_GIA\n",
       "0             1.10  5.0    3.0        1     2.0       3.0   5169.0           1\n",
       "1             0.83  5.0    3.0        3     4.0       4.0   3470.0           0\n",
       "2             0.85  5.0    3.0        1     3.0       3.0   3183.0           1\n",
       "3             0.91  5.0    6.0        1     2.0       2.0   4370.0           1\n",
       "4             0.83  5.0    4.0        1     3.0       3.0   3171.0           1\n",
       "...            ...  ...    ...      ...     ...       ...      ...         ...\n",
       "4495          0.90  4.0    5.0        1     2.0       2.0   4095.0           1\n",
       "4496          1.01  3.0    2.0        1     2.0       2.0   4078.0           1\n",
       "4497          0.90  4.0    7.0        1     2.0       1.0   4497.0           1\n",
       "4498          1.21  4.0    4.0        1     2.0       2.0   6439.0           1\n",
       "4499          1.50  6.0    2.0        6     4.0       4.0  12725.0           0\n",
       "\n",
       "[4500 rows x 8 columns]"
      ]
     },
     "execution_count": 20,
     "metadata": {},
     "output_type": "execute_result"
    }
   ],
   "source": [
    "train.loc[train['Price']<=0,'Price'] = np.nan\n",
    "train['Price'].fillna(train['Price'].mean())\n",
    "train"
   ]
  },
  {
   "cell_type": "markdown",
   "id": "8d4ed43c",
   "metadata": {},
   "source": [
    "Также избавимся от двух выбросов в столбце Carat Weight, которые просто не могут существовать в реальной жизни"
   ]
  },
  {
   "cell_type": "code",
   "execution_count": 21,
   "id": "f6e2ba2c",
   "metadata": {},
   "outputs": [
    {
     "data": {
      "text/html": [
       "<div>\n",
       "<style scoped>\n",
       "    .dataframe tbody tr th:only-of-type {\n",
       "        vertical-align: middle;\n",
       "    }\n",
       "\n",
       "    .dataframe tbody tr th {\n",
       "        vertical-align: top;\n",
       "    }\n",
       "\n",
       "    .dataframe thead th {\n",
       "        text-align: right;\n",
       "    }\n",
       "</style>\n",
       "<table border=\"1\" class=\"dataframe\">\n",
       "  <thead>\n",
       "    <tr style=\"text-align: right;\">\n",
       "      <th></th>\n",
       "      <th>Carat Weight</th>\n",
       "      <th>Cut</th>\n",
       "      <th>Color</th>\n",
       "      <th>Clarity</th>\n",
       "      <th>Polish</th>\n",
       "      <th>Symmetry</th>\n",
       "      <th>Price</th>\n",
       "      <th>Report_GIA</th>\n",
       "    </tr>\n",
       "  </thead>\n",
       "  <tbody>\n",
       "    <tr>\n",
       "      <th>0</th>\n",
       "      <td>1.10</td>\n",
       "      <td>5.0</td>\n",
       "      <td>3.0</td>\n",
       "      <td>1</td>\n",
       "      <td>2.0</td>\n",
       "      <td>3.0</td>\n",
       "      <td>5169.0</td>\n",
       "      <td>1</td>\n",
       "    </tr>\n",
       "    <tr>\n",
       "      <th>1</th>\n",
       "      <td>0.83</td>\n",
       "      <td>5.0</td>\n",
       "      <td>3.0</td>\n",
       "      <td>3</td>\n",
       "      <td>4.0</td>\n",
       "      <td>4.0</td>\n",
       "      <td>3470.0</td>\n",
       "      <td>0</td>\n",
       "    </tr>\n",
       "    <tr>\n",
       "      <th>2</th>\n",
       "      <td>0.85</td>\n",
       "      <td>5.0</td>\n",
       "      <td>3.0</td>\n",
       "      <td>1</td>\n",
       "      <td>3.0</td>\n",
       "      <td>3.0</td>\n",
       "      <td>3183.0</td>\n",
       "      <td>1</td>\n",
       "    </tr>\n",
       "    <tr>\n",
       "      <th>3</th>\n",
       "      <td>0.91</td>\n",
       "      <td>5.0</td>\n",
       "      <td>6.0</td>\n",
       "      <td>1</td>\n",
       "      <td>2.0</td>\n",
       "      <td>2.0</td>\n",
       "      <td>4370.0</td>\n",
       "      <td>1</td>\n",
       "    </tr>\n",
       "    <tr>\n",
       "      <th>4</th>\n",
       "      <td>0.83</td>\n",
       "      <td>5.0</td>\n",
       "      <td>4.0</td>\n",
       "      <td>1</td>\n",
       "      <td>3.0</td>\n",
       "      <td>3.0</td>\n",
       "      <td>3171.0</td>\n",
       "      <td>1</td>\n",
       "    </tr>\n",
       "    <tr>\n",
       "      <th>...</th>\n",
       "      <td>...</td>\n",
       "      <td>...</td>\n",
       "      <td>...</td>\n",
       "      <td>...</td>\n",
       "      <td>...</td>\n",
       "      <td>...</td>\n",
       "      <td>...</td>\n",
       "      <td>...</td>\n",
       "    </tr>\n",
       "    <tr>\n",
       "      <th>4495</th>\n",
       "      <td>0.90</td>\n",
       "      <td>4.0</td>\n",
       "      <td>5.0</td>\n",
       "      <td>1</td>\n",
       "      <td>2.0</td>\n",
       "      <td>2.0</td>\n",
       "      <td>4095.0</td>\n",
       "      <td>1</td>\n",
       "    </tr>\n",
       "    <tr>\n",
       "      <th>4496</th>\n",
       "      <td>1.01</td>\n",
       "      <td>3.0</td>\n",
       "      <td>2.0</td>\n",
       "      <td>1</td>\n",
       "      <td>2.0</td>\n",
       "      <td>2.0</td>\n",
       "      <td>4078.0</td>\n",
       "      <td>1</td>\n",
       "    </tr>\n",
       "    <tr>\n",
       "      <th>4497</th>\n",
       "      <td>0.90</td>\n",
       "      <td>4.0</td>\n",
       "      <td>7.0</td>\n",
       "      <td>1</td>\n",
       "      <td>2.0</td>\n",
       "      <td>1.0</td>\n",
       "      <td>4497.0</td>\n",
       "      <td>1</td>\n",
       "    </tr>\n",
       "    <tr>\n",
       "      <th>4498</th>\n",
       "      <td>1.21</td>\n",
       "      <td>4.0</td>\n",
       "      <td>4.0</td>\n",
       "      <td>1</td>\n",
       "      <td>2.0</td>\n",
       "      <td>2.0</td>\n",
       "      <td>6439.0</td>\n",
       "      <td>1</td>\n",
       "    </tr>\n",
       "    <tr>\n",
       "      <th>4499</th>\n",
       "      <td>1.50</td>\n",
       "      <td>6.0</td>\n",
       "      <td>2.0</td>\n",
       "      <td>6</td>\n",
       "      <td>4.0</td>\n",
       "      <td>4.0</td>\n",
       "      <td>12725.0</td>\n",
       "      <td>0</td>\n",
       "    </tr>\n",
       "  </tbody>\n",
       "</table>\n",
       "<p>4500 rows × 8 columns</p>\n",
       "</div>"
      ],
      "text/plain": [
       "      Carat Weight  Cut  Color  Clarity  Polish  Symmetry    Price  Report_GIA\n",
       "0             1.10  5.0    3.0        1     2.0       3.0   5169.0           1\n",
       "1             0.83  5.0    3.0        3     4.0       4.0   3470.0           0\n",
       "2             0.85  5.0    3.0        1     3.0       3.0   3183.0           1\n",
       "3             0.91  5.0    6.0        1     2.0       2.0   4370.0           1\n",
       "4             0.83  5.0    4.0        1     3.0       3.0   3171.0           1\n",
       "...            ...  ...    ...      ...     ...       ...      ...         ...\n",
       "4495          0.90  4.0    5.0        1     2.0       2.0   4095.0           1\n",
       "4496          1.01  3.0    2.0        1     2.0       2.0   4078.0           1\n",
       "4497          0.90  4.0    7.0        1     2.0       1.0   4497.0           1\n",
       "4498          1.21  4.0    4.0        1     2.0       2.0   6439.0           1\n",
       "4499          1.50  6.0    2.0        6     4.0       4.0  12725.0           0\n",
       "\n",
       "[4500 rows x 8 columns]"
      ]
     },
     "execution_count": 21,
     "metadata": {},
     "output_type": "execute_result"
    }
   ],
   "source": [
    "train.loc[train['Carat Weight']>=2000,'Carat Weight'] = np.nan\n",
    "train['Carat Weight'].fillna(train['Carat Weight'].mean())\n",
    "train"
   ]
  },
  {
   "cell_type": "markdown",
   "id": "bfab7081",
   "metadata": {},
   "source": [
    "Построим точечные графики зависимости цены от остальных признаков"
   ]
  },
  {
   "cell_type": "code",
   "execution_count": 22,
   "id": "5c49d313",
   "metadata": {
    "scrolled": false
   },
   "outputs": [
    {
     "ename": "IndexError",
     "evalue": "index 2 is out of bounds for axis 0 with size 2",
     "output_type": "error",
     "traceback": [
      "\u001b[1;31m---------------------------------------------------------------------------\u001b[0m",
      "\u001b[1;31mIndexError\u001b[0m                                Traceback (most recent call last)",
      "\u001b[1;32m~\\AppData\\Local\\Temp/ipykernel_15556/1406177153.py\u001b[0m in \u001b[0;36m<module>\u001b[1;34m\u001b[0m\n\u001b[0;32m      1\u001b[0m \u001b[0mfig\u001b[0m\u001b[1;33m,\u001b[0m \u001b[0maxes\u001b[0m \u001b[1;33m=\u001b[0m \u001b[0mplt\u001b[0m\u001b[1;33m.\u001b[0m\u001b[0msubplots\u001b[0m\u001b[1;33m(\u001b[0m\u001b[0mnrows\u001b[0m\u001b[1;33m=\u001b[0m\u001b[1;36m2\u001b[0m\u001b[1;33m,\u001b[0m \u001b[0mncols\u001b[0m\u001b[1;33m=\u001b[0m\u001b[1;36m3\u001b[0m\u001b[1;33m,\u001b[0m \u001b[0mfigsize\u001b[0m\u001b[1;33m=\u001b[0m\u001b[1;33m(\u001b[0m\u001b[1;36m19\u001b[0m\u001b[1;33m,\u001b[0m \u001b[1;36m10\u001b[0m\u001b[1;33m)\u001b[0m\u001b[1;33m)\u001b[0m\u001b[1;33m\u001b[0m\u001b[1;33m\u001b[0m\u001b[0m\n\u001b[0;32m      2\u001b[0m \u001b[1;32mfor\u001b[0m \u001b[0midx\u001b[0m\u001b[1;33m,\u001b[0m \u001b[0mfeature\u001b[0m \u001b[1;32min\u001b[0m \u001b[0menumerate\u001b[0m\u001b[1;33m(\u001b[0m\u001b[0mtrain\u001b[0m\u001b[1;33m.\u001b[0m\u001b[0mcolumns\u001b[0m\u001b[1;33m[\u001b[0m\u001b[1;33m:\u001b[0m\u001b[1;33m-\u001b[0m\u001b[1;36m1\u001b[0m\u001b[1;33m]\u001b[0m\u001b[1;33m)\u001b[0m\u001b[1;33m:\u001b[0m\u001b[1;33m\u001b[0m\u001b[1;33m\u001b[0m\u001b[0m\n\u001b[1;32m----> 3\u001b[1;33m     \u001b[0mtrain\u001b[0m\u001b[1;33m.\u001b[0m\u001b[0mplot\u001b[0m\u001b[1;33m(\u001b[0m\u001b[0mfeature\u001b[0m\u001b[1;33m,\u001b[0m \u001b[1;34m\"Price\"\u001b[0m\u001b[1;33m,\u001b[0m \u001b[0msubplots\u001b[0m\u001b[1;33m=\u001b[0m\u001b[1;32mTrue\u001b[0m\u001b[1;33m,\u001b[0m \u001b[0mkind\u001b[0m\u001b[1;33m=\u001b[0m\u001b[1;34m\"scatter\"\u001b[0m\u001b[1;33m,\u001b[0m \u001b[0max\u001b[0m\u001b[1;33m=\u001b[0m\u001b[0maxes\u001b[0m\u001b[1;33m[\u001b[0m\u001b[0midx\u001b[0m \u001b[1;33m//\u001b[0m \u001b[1;36m3\u001b[0m\u001b[1;33m,\u001b[0m \u001b[0midx\u001b[0m \u001b[1;33m%\u001b[0m \u001b[1;36m3\u001b[0m\u001b[1;33m]\u001b[0m\u001b[1;33m)\u001b[0m\u001b[1;33m\u001b[0m\u001b[1;33m\u001b[0m\u001b[0m\n\u001b[0m",
      "\u001b[1;31mIndexError\u001b[0m: index 2 is out of bounds for axis 0 with size 2"
     ]
    },
    {
     "data": {
      "image/png": "[encoded data removed]",
      "text/plain": [
       "<Figure size 1368x720 with 6 Axes>"
      ]
     },
     "metadata": {
      "needs_background": "light"
     },
     "output_type": "display_data"
    }
   ],
   "source": [
    "fig, axes = plt.subplots(nrows=2, ncols=3, figsize=(19, 10))\n",
    "for idx, feature in enumerate(train.columns[:-1]):\n",
    "    train.plot(feature, \"Price\", subplots=True, kind=\"scatter\", ax=axes[idx // 3, idx % 3])"
   ]
  },
  {
   "cell_type": "markdown",
   "id": "436afae5",
   "metadata": {},
   "source": [
    "По графикам видно, что цена больше всего зависит от веса в каратах. Также на цену скорее всего влияют такие параметры как цвет (color) и чистота (clarity). Также по графику зависимости цены от веса в каратах можно наблюдать явление гетероскедастичности (непостоянная дисперсия). Это происходит с каждым сегментом при весах 0-1.5; 1.5-2; 2-3."
   ]
  },
  {
   "cell_type": "markdown",
   "id": "de90628a",
   "metadata": {},
   "source": [
    "Выведем корреляцию столбцов признаков с целевой переменной, т.е. с столбцом цен"
   ]
  },
  {
   "cell_type": "code",
   "execution_count": 23,
   "id": "0c6f21e7",
   "metadata": {
    "scrolled": true
   },
   "outputs": [
    {
     "name": "stdout",
     "output_type": "stream",
     "text": [
      "Корреляция всех величин с ценой:\n",
      " Carat Weight    0.855152\n",
      "Cut             0.125591\n",
      "Color           0.138544\n",
      "Clarity         0.328784\n",
      "Polish          0.077507\n",
      "Symmetry        0.081372\n",
      "Price           1.000000\n",
      "Report_GIA      0.007796\n",
      "dtype: float64\n"
     ]
    }
   ],
   "source": [
    "print('Корреляция всех величин с ценой:\\n',train.corrwith(train['Price'], method='pearson'))"
   ]
  },
  {
   "cell_type": "markdown",
   "id": "78ef91a5",
   "metadata": {},
   "source": [
    "Коэффициенты корреляции показывают что, больше всего на цену влияют вес в каратах, чистота и цвет. В меньшей степени влияют остальные качества. Также в выборке есть признаки, коррелирующие с целевым, а значит, задачу можно решать линейными методами."
   ]
  },
  {
   "cell_type": "markdown",
   "id": "9e5f2b4d",
   "metadata": {},
   "source": [
    "Посмотрим на взаимокорреляцию всех признаков"
   ]
  },
  {
   "cell_type": "code",
   "execution_count": 24,
   "id": "ab423b1c",
   "metadata": {
    "scrolled": false
   },
   "outputs": [
    {
     "data": {
      "text/html": [
       "<div>\n",
       "<style scoped>\n",
       "    .dataframe tbody tr th:only-of-type {\n",
       "        vertical-align: middle;\n",
       "    }\n",
       "\n",
       "    .dataframe tbody tr th {\n",
       "        vertical-align: top;\n",
       "    }\n",
       "\n",
       "    .dataframe thead th {\n",
       "        text-align: right;\n",
       "    }\n",
       "</style>\n",
       "<table border=\"1\" class=\"dataframe\">\n",
       "  <thead>\n",
       "    <tr style=\"text-align: right;\">\n",
       "      <th></th>\n",
       "      <th>Carat Weight</th>\n",
       "      <th>Cut</th>\n",
       "      <th>Color</th>\n",
       "      <th>Clarity</th>\n",
       "      <th>Polish</th>\n",
       "      <th>Symmetry</th>\n",
       "      <th>Price</th>\n",
       "      <th>Report_GIA</th>\n",
       "    </tr>\n",
       "  </thead>\n",
       "  <tbody>\n",
       "    <tr>\n",
       "      <th>Carat Weight</th>\n",
       "      <td>1.000000</td>\n",
       "      <td>0.066216</td>\n",
       "      <td>-0.127980</td>\n",
       "      <td>0.092978</td>\n",
       "      <td>0.047014</td>\n",
       "      <td>0.045944</td>\n",
       "      <td>0.855152</td>\n",
       "      <td>0.007523</td>\n",
       "    </tr>\n",
       "    <tr>\n",
       "      <th>Cut</th>\n",
       "      <td>0.066216</td>\n",
       "      <td>1.000000</td>\n",
       "      <td>-0.043035</td>\n",
       "      <td>0.174237</td>\n",
       "      <td>0.459259</td>\n",
       "      <td>0.560411</td>\n",
       "      <td>0.125591</td>\n",
       "      <td>-0.283586</td>\n",
       "    </tr>\n",
       "    <tr>\n",
       "      <th>Color</th>\n",
       "      <td>-0.127980</td>\n",
       "      <td>-0.043035</td>\n",
       "      <td>1.000000</td>\n",
       "      <td>0.029943</td>\n",
       "      <td>-0.058902</td>\n",
       "      <td>-0.074973</td>\n",
       "      <td>0.138544</td>\n",
       "      <td>0.102369</td>\n",
       "    </tr>\n",
       "    <tr>\n",
       "      <th>Clarity</th>\n",
       "      <td>0.092978</td>\n",
       "      <td>0.174237</td>\n",
       "      <td>0.029943</td>\n",
       "      <td>1.000000</td>\n",
       "      <td>0.142673</td>\n",
       "      <td>0.137359</td>\n",
       "      <td>0.328784</td>\n",
       "      <td>-0.080743</td>\n",
       "    </tr>\n",
       "    <tr>\n",
       "      <th>Polish</th>\n",
       "      <td>0.047014</td>\n",
       "      <td>0.459259</td>\n",
       "      <td>-0.058902</td>\n",
       "      <td>0.142673</td>\n",
       "      <td>1.000000</td>\n",
       "      <td>0.720960</td>\n",
       "      <td>0.077507</td>\n",
       "      <td>-0.570824</td>\n",
       "    </tr>\n",
       "    <tr>\n",
       "      <th>Symmetry</th>\n",
       "      <td>0.045944</td>\n",
       "      <td>0.560411</td>\n",
       "      <td>-0.074973</td>\n",
       "      <td>0.137359</td>\n",
       "      <td>0.720960</td>\n",
       "      <td>1.000000</td>\n",
       "      <td>0.081372</td>\n",
       "      <td>-0.566095</td>\n",
       "    </tr>\n",
       "    <tr>\n",
       "      <th>Price</th>\n",
       "      <td>0.855152</td>\n",
       "      <td>0.125591</td>\n",
       "      <td>0.138544</td>\n",
       "      <td>0.328784</td>\n",
       "      <td>0.077507</td>\n",
       "      <td>0.081372</td>\n",
       "      <td>1.000000</td>\n",
       "      <td>0.007796</td>\n",
       "    </tr>\n",
       "    <tr>\n",
       "      <th>Report_GIA</th>\n",
       "      <td>0.007523</td>\n",
       "      <td>-0.283586</td>\n",
       "      <td>0.102369</td>\n",
       "      <td>-0.080743</td>\n",
       "      <td>-0.570824</td>\n",
       "      <td>-0.566095</td>\n",
       "      <td>0.007796</td>\n",
       "      <td>1.000000</td>\n",
       "    </tr>\n",
       "  </tbody>\n",
       "</table>\n",
       "</div>"
      ],
      "text/plain": [
       "              Carat Weight       Cut     Color   Clarity    Polish  Symmetry  \\\n",
       "Carat Weight      1.000000  0.066216 -0.127980  0.092978  0.047014  0.045944   \n",
       "Cut               0.066216  1.000000 -0.043035  0.174237  0.459259  0.560411   \n",
       "Color            -0.127980 -0.043035  1.000000  0.029943 -0.058902 -0.074973   \n",
       "Clarity           0.092978  0.174237  0.029943  1.000000  0.142673  0.137359   \n",
       "Polish            0.047014  0.459259 -0.058902  0.142673  1.000000  0.720960   \n",
       "Symmetry          0.045944  0.560411 -0.074973  0.137359  0.720960  1.000000   \n",
       "Price             0.855152  0.125591  0.138544  0.328784  0.077507  0.081372   \n",
       "Report_GIA        0.007523 -0.283586  0.102369 -0.080743 -0.570824 -0.566095   \n",
       "\n",
       "                 Price  Report_GIA  \n",
       "Carat Weight  0.855152    0.007523  \n",
       "Cut           0.125591   -0.283586  \n",
       "Color         0.138544    0.102369  \n",
       "Clarity       0.328784   -0.080743  \n",
       "Polish        0.077507   -0.570824  \n",
       "Symmetry      0.081372   -0.566095  \n",
       "Price         1.000000    0.007796  \n",
       "Report_GIA    0.007796    1.000000  "
      ]
     },
     "execution_count": 24,
     "metadata": {},
     "output_type": "execute_result"
    }
   ],
   "source": [
    "train.corr(method='pearson')"
   ]
  },
  {
   "cell_type": "markdown",
   "id": "adc5d4db",
   "metadata": {},
   "source": [
    "Как видим, слишком коррелирующих столбцов не найдено. Есть столбцы Polish и Symmetry у которых высокая корреляция, но все же регуляризация может ухудшить качество модели. Что будет видно позже, когда получим веса модели"
   ]
  },
  {
   "cell_type": "markdown",
   "id": "9b269501",
   "metadata": {},
   "source": [
    "Выведем статистику по столбцам"
   ]
  },
  {
   "cell_type": "code",
   "execution_count": 25,
   "id": "311f9c87",
   "metadata": {
    "scrolled": true
   },
   "outputs": [
    {
     "data": {
      "text/html": [
       "<div>\n",
       "<style scoped>\n",
       "    .dataframe tbody tr th:only-of-type {\n",
       "        vertical-align: middle;\n",
       "    }\n",
       "\n",
       "    .dataframe tbody tr th {\n",
       "        vertical-align: top;\n",
       "    }\n",
       "\n",
       "    .dataframe thead th {\n",
       "        text-align: right;\n",
       "    }\n",
       "</style>\n",
       "<table border=\"1\" class=\"dataframe\">\n",
       "  <thead>\n",
       "    <tr style=\"text-align: right;\">\n",
       "      <th></th>\n",
       "      <th>Carat Weight</th>\n",
       "      <th>Cut</th>\n",
       "      <th>Color</th>\n",
       "      <th>Clarity</th>\n",
       "      <th>Polish</th>\n",
       "      <th>Symmetry</th>\n",
       "      <th>Price</th>\n",
       "      <th>Report_GIA</th>\n",
       "    </tr>\n",
       "  </thead>\n",
       "  <tbody>\n",
       "    <tr>\n",
       "      <th>count</th>\n",
       "      <td>4498.000000</td>\n",
       "      <td>4497.000000</td>\n",
       "      <td>4499.000000</td>\n",
       "      <td>4500.000000</td>\n",
       "      <td>4499.000000</td>\n",
       "      <td>4499.000000</td>\n",
       "      <td>4498.000000</td>\n",
       "      <td>4500.000000</td>\n",
       "    </tr>\n",
       "    <tr>\n",
       "      <th>mean</th>\n",
       "      <td>1.331274</td>\n",
       "      <td>4.329553</td>\n",
       "      <td>4.255835</td>\n",
       "      <td>2.376667</td>\n",
       "      <td>2.503890</td>\n",
       "      <td>2.386530</td>\n",
       "      <td>11680.771240</td>\n",
       "      <td>0.875778</td>\n",
       "    </tr>\n",
       "    <tr>\n",
       "      <th>std</th>\n",
       "      <td>0.475013</td>\n",
       "      <td>0.819524</td>\n",
       "      <td>1.566840</td>\n",
       "      <td>1.372300</td>\n",
       "      <td>0.805534</td>\n",
       "      <td>0.871313</td>\n",
       "      <td>10063.376832</td>\n",
       "      <td>0.329872</td>\n",
       "    </tr>\n",
       "    <tr>\n",
       "      <th>min</th>\n",
       "      <td>0.750000</td>\n",
       "      <td>2.000000</td>\n",
       "      <td>2.000000</td>\n",
       "      <td>1.000000</td>\n",
       "      <td>1.000000</td>\n",
       "      <td>1.000000</td>\n",
       "      <td>0.001000</td>\n",
       "      <td>0.000000</td>\n",
       "    </tr>\n",
       "    <tr>\n",
       "      <th>25%</th>\n",
       "      <td>1.000000</td>\n",
       "      <td>4.000000</td>\n",
       "      <td>3.000000</td>\n",
       "      <td>1.000000</td>\n",
       "      <td>2.000000</td>\n",
       "      <td>2.000000</td>\n",
       "      <td>5128.750000</td>\n",
       "      <td>1.000000</td>\n",
       "    </tr>\n",
       "    <tr>\n",
       "      <th>50%</th>\n",
       "      <td>1.130000</td>\n",
       "      <td>4.000000</td>\n",
       "      <td>4.000000</td>\n",
       "      <td>2.000000</td>\n",
       "      <td>3.000000</td>\n",
       "      <td>2.000000</td>\n",
       "      <td>7871.000000</td>\n",
       "      <td>1.000000</td>\n",
       "    </tr>\n",
       "    <tr>\n",
       "      <th>75%</th>\n",
       "      <td>1.580000</td>\n",
       "      <td>5.000000</td>\n",
       "      <td>5.000000</td>\n",
       "      <td>3.000000</td>\n",
       "      <td>3.000000</td>\n",
       "      <td>3.000000</td>\n",
       "      <td>14952.250000</td>\n",
       "      <td>1.000000</td>\n",
       "    </tr>\n",
       "    <tr>\n",
       "      <th>max</th>\n",
       "      <td>2.910000</td>\n",
       "      <td>6.000000</td>\n",
       "      <td>7.000000</td>\n",
       "      <td>7.000000</td>\n",
       "      <td>4.000000</td>\n",
       "      <td>4.000000</td>\n",
       "      <td>101561.000000</td>\n",
       "      <td>1.000000</td>\n",
       "    </tr>\n",
       "  </tbody>\n",
       "</table>\n",
       "</div>"
      ],
      "text/plain": [
       "       Carat Weight          Cut        Color      Clarity       Polish  \\\n",
       "count   4498.000000  4497.000000  4499.000000  4500.000000  4499.000000   \n",
       "mean       1.331274     4.329553     4.255835     2.376667     2.503890   \n",
       "std        0.475013     0.819524     1.566840     1.372300     0.805534   \n",
       "min        0.750000     2.000000     2.000000     1.000000     1.000000   \n",
       "25%        1.000000     4.000000     3.000000     1.000000     2.000000   \n",
       "50%        1.130000     4.000000     4.000000     2.000000     3.000000   \n",
       "75%        1.580000     5.000000     5.000000     3.000000     3.000000   \n",
       "max        2.910000     6.000000     7.000000     7.000000     4.000000   \n",
       "\n",
       "          Symmetry          Price   Report_GIA  \n",
       "count  4499.000000    4498.000000  4500.000000  \n",
       "mean      2.386530   11680.771240     0.875778  \n",
       "std       0.871313   10063.376832     0.329872  \n",
       "min       1.000000       0.001000     0.000000  \n",
       "25%       2.000000    5128.750000     1.000000  \n",
       "50%       2.000000    7871.000000     1.000000  \n",
       "75%       3.000000   14952.250000     1.000000  \n",
       "max       4.000000  101561.000000     1.000000  "
      ]
     },
     "execution_count": 25,
     "metadata": {},
     "output_type": "execute_result"
    }
   ],
   "source": [
    "train.describe()"
   ]
  },
  {
   "cell_type": "markdown",
   "id": "ae18e625",
   "metadata": {},
   "source": [
    "Больше всего интересна статистика столбца Price. Мы можем видеть, что, действительно, мы имеем большой разброс в данных"
   ]
  },
  {
   "cell_type": "markdown",
   "id": "eecbe5b4",
   "metadata": {},
   "source": [
    "Решением проблемы гетероскедастичности и большого разброса цен может являться логарифмическая трансформация для особо важных столбцов, т.е. для веса в каратах и цены. Во-первых, мы выровняем дисперсию веса в каратах, которая происходит с постепенным ростом цены. Во-вторых, мы, возможно, приблизим распределение цены к нормальному, а также уменьшим значение асимметрии и количество выбросов. "
   ]
  },
  {
   "cell_type": "code",
   "execution_count": 26,
   "id": "44d8e236",
   "metadata": {},
   "outputs": [],
   "source": [
    "train_copy = train.copy()"
   ]
  },
  {
   "cell_type": "code",
   "execution_count": 27,
   "id": "3e508808",
   "metadata": {},
   "outputs": [],
   "source": [
    "train_copy['Price'] = np.log(train_copy['Price'])\n",
    "train_copy['Carat Weight'] = np.log(train_copy['Carat Weight'])"
   ]
  },
  {
   "cell_type": "code",
   "execution_count": 28,
   "id": "4e9c98b2",
   "metadata": {},
   "outputs": [],
   "source": [
    "train_copy[train_copy.Price <= 0] = np.nan"
   ]
  },
  {
   "cell_type": "code",
   "execution_count": 29,
   "id": "aaa813fb",
   "metadata": {},
   "outputs": [],
   "source": [
    "train_copy = train_copy.fillna(train_copy.mean())"
   ]
  },
  {
   "cell_type": "code",
   "execution_count": 31,
   "id": "564c5fae",
   "metadata": {
    "scrolled": false
   },
   "outputs": [
    {
     "ename": "IndexError",
     "evalue": "index 2 is out of bounds for axis 0 with size 2",
     "output_type": "error",
     "traceback": [
      "\u001b[1;31m---------------------------------------------------------------------------\u001b[0m",
      "\u001b[1;31mIndexError\u001b[0m                                Traceback (most recent call last)",
      "\u001b[1;32m~\\AppData\\Local\\Temp/ipykernel_15556/1763912507.py\u001b[0m in \u001b[0;36m<module>\u001b[1;34m\u001b[0m\n\u001b[0;32m      1\u001b[0m \u001b[0mfig\u001b[0m\u001b[1;33m,\u001b[0m \u001b[0maxes\u001b[0m \u001b[1;33m=\u001b[0m \u001b[0mplt\u001b[0m\u001b[1;33m.\u001b[0m\u001b[0msubplots\u001b[0m\u001b[1;33m(\u001b[0m\u001b[0mnrows\u001b[0m\u001b[1;33m=\u001b[0m\u001b[1;36m2\u001b[0m\u001b[1;33m,\u001b[0m \u001b[0mncols\u001b[0m\u001b[1;33m=\u001b[0m\u001b[1;36m3\u001b[0m\u001b[1;33m,\u001b[0m \u001b[0mfigsize\u001b[0m\u001b[1;33m=\u001b[0m\u001b[1;33m(\u001b[0m\u001b[1;36m19\u001b[0m\u001b[1;33m,\u001b[0m \u001b[1;36m10\u001b[0m\u001b[1;33m)\u001b[0m\u001b[1;33m)\u001b[0m\u001b[1;33m\u001b[0m\u001b[1;33m\u001b[0m\u001b[0m\n\u001b[0;32m      2\u001b[0m \u001b[1;32mfor\u001b[0m \u001b[0midx\u001b[0m\u001b[1;33m,\u001b[0m \u001b[0mfeature\u001b[0m \u001b[1;32min\u001b[0m \u001b[0menumerate\u001b[0m\u001b[1;33m(\u001b[0m\u001b[0mtrain_copy\u001b[0m\u001b[1;33m.\u001b[0m\u001b[0mcolumns\u001b[0m\u001b[1;33m[\u001b[0m\u001b[1;33m:\u001b[0m\u001b[1;33m-\u001b[0m\u001b[1;36m1\u001b[0m\u001b[1;33m]\u001b[0m\u001b[1;33m)\u001b[0m\u001b[1;33m:\u001b[0m\u001b[1;33m\u001b[0m\u001b[1;33m\u001b[0m\u001b[0m\n\u001b[1;32m----> 3\u001b[1;33m     \u001b[0mtrain_copy\u001b[0m\u001b[1;33m.\u001b[0m\u001b[0mplot\u001b[0m\u001b[1;33m(\u001b[0m\u001b[0mfeature\u001b[0m\u001b[1;33m,\u001b[0m \u001b[1;34m\"Price\"\u001b[0m\u001b[1;33m,\u001b[0m \u001b[0msubplots\u001b[0m\u001b[1;33m=\u001b[0m\u001b[1;32mTrue\u001b[0m\u001b[1;33m,\u001b[0m \u001b[0mkind\u001b[0m\u001b[1;33m=\u001b[0m\u001b[1;34m\"scatter\"\u001b[0m\u001b[1;33m,\u001b[0m \u001b[0max\u001b[0m\u001b[1;33m=\u001b[0m\u001b[0maxes\u001b[0m\u001b[1;33m[\u001b[0m\u001b[0midx\u001b[0m \u001b[1;33m//\u001b[0m \u001b[1;36m3\u001b[0m\u001b[1;33m,\u001b[0m \u001b[0midx\u001b[0m \u001b[1;33m%\u001b[0m \u001b[1;36m3\u001b[0m\u001b[1;33m]\u001b[0m\u001b[1;33m)\u001b[0m\u001b[1;33m\u001b[0m\u001b[1;33m\u001b[0m\u001b[0m\n\u001b[0m",
      "\u001b[1;31mIndexError\u001b[0m: index 2 is out of bounds for axis 0 with size 2"
     ]
    },
    {
     "data": {
      "image/png": "[encoded data removed]",
      "text/plain": [
       "<Figure size 1368x720 with 6 Axes>"
      ]
     },
     "metadata": {
      "needs_background": "light"
     },
     "output_type": "display_data"
    }
   ],
   "source": [
    "fig, axes = plt.subplots(nrows=2, ncols=3, figsize=(19, 10))\n",
    "for idx, feature in enumerate(train_copy.columns[:-1]):\n",
    "    train_copy.plot(feature, \"Price\", subplots=True, kind=\"scatter\", ax=axes[idx // 3, idx % 3])"
   ]
  },
  {
   "cell_type": "markdown",
   "id": "9c5012a2",
   "metadata": {},
   "source": [
    "Действительно, удалось уменьшить явление гетероскедастичности и уменьшить разброс дисперсии. Посмотрим на гистограмму и \"ящик с усами\"."
   ]
  },
  {
   "cell_type": "code",
   "execution_count": 32,
   "id": "fa62bee2",
   "metadata": {
    "scrolled": false
   },
   "outputs": [
    {
     "name": "stderr",
     "output_type": "stream",
     "text": [
      "C:\\ProgramData\\Anaconda3\\lib\\site-packages\\seaborn\\distributions.py:2619: FutureWarning: `distplot` is a deprecated function and will be removed in a future version. Please adapt your code to use either `displot` (a figure-level function with similar flexibility) or `histplot` (an axes-level function for histograms).\n",
      "  warnings.warn(msg, FutureWarning)\n",
      "C:\\ProgramData\\Anaconda3\\lib\\site-packages\\seaborn\\_decorators.py:36: FutureWarning: Pass the following variable as a keyword arg: x. From version 0.12, the only valid positional argument will be `data`, and passing other arguments without an explicit keyword will result in an error or misinterpretation.\n",
      "  warnings.warn(\n"
     ]
    },
    {
     "data": {
      "text/plain": [
       "Text(0.5, 1.0, '\"Ящик с усами\" после log-трансформации цены')"
      ]
     },
     "execution_count": 32,
     "metadata": {},
     "output_type": "execute_result"
    },
    {
     "data": {
      "image/png": "[encoded data removed]",
      "text/plain": [
       "<Figure size 1152x432 with 2 Axes>"
      ]
     },
     "metadata": {
      "needs_background": "light"
     },
     "output_type": "display_data"
    }
   ],
   "source": [
    "plt.figure(figsize = (16, 6))\n",
    "\n",
    "pylab.subplot(1,2,1)\n",
    "sns.distplot(train_copy['Price'])\n",
    "pylab.title('Гистограмма и лог-трансформированная кривая распределения цены')\n",
    "\n",
    "pylab.subplot(1,2,2)\n",
    "sns.boxplot(train_copy['Price'])\n",
    "pylab.title('\"Ящик с усами\" после log-трансформации цены')"
   ]
  },
  {
   "cell_type": "markdown",
   "id": "351a8cec",
   "metadata": {},
   "source": [
    "По графикам можно видеть что log-трансформация помогла уменьшить количество выбросов, уменьшить асимметрию вправо, а также приблизило распределение к нормальному. Дабы не быть голословным, проверим это аналитически."
   ]
  },
  {
   "cell_type": "markdown",
   "id": "411efd0b",
   "metadata": {},
   "source": [
    "Воспользуемся критерием нормальности Д'Агостино и Пирсона из библиотеки scipy. За H0-гипотезу примем то, что распределение цены нормальное. За H1, соответсвенно, что не нормальное. За теоретический уровень значимости примем альфу равную 0.01. Если вычисленный уровень значимости p будет меньше альфы, то отвергаем гипотезу H0 => распределение не нормальное."
   ]
  },
  {
   "cell_type": "code",
   "execution_count": 33,
   "id": "a3fee35e",
   "metadata": {
    "scrolled": true
   },
   "outputs": [
    {
     "name": "stdout",
     "output_type": "stream",
     "text": [
      "p = 3.97478e-56\n",
      "Нулевая гипотеза отвергается\n"
     ]
    }
   ],
   "source": [
    "stats.normaltest(train_copy['Price'])\n",
    "\n",
    "k2, p = stats.normaltest(train_copy['Price'])\n",
    "alpha = 1e-3\n",
    "print(\"p = {:g}\".format(p))\n",
    "if p < alpha:  # Нулевая гипотеза о том, что распределение цены происходит из нормального распределения\n",
    "    print(\"Нулевая гипотеза отвергается\")\n",
    "else:\n",
    "    print(\"Нулевая гипотеза не отвергается\")"
   ]
  },
  {
   "cell_type": "markdown",
   "id": "53040690",
   "metadata": {},
   "source": [
    "Распределение цены не нормальное. Проверим еще на одном критерии - Лиллиефорса."
   ]
  },
  {
   "cell_type": "code",
   "execution_count": 34,
   "id": "0e64aba1",
   "metadata": {},
   "outputs": [
    {
     "data": {
      "text/plain": [
       "(0.0750653393582979, 0.0009999999999998899)"
      ]
     },
     "execution_count": 34,
     "metadata": {},
     "output_type": "execute_result"
    }
   ],
   "source": [
    "import statsmodels.api as sm\n",
    "sm.stats.lilliefors(train_copy['Price'])"
   ]
  },
  {
   "cell_type": "markdown",
   "id": "0d07af07",
   "metadata": {},
   "source": [
    "Он является модификацией критерия Колмогорова-Смирнова для значений, когда есть смещение мат.ожидания и дисперсии от 0 и 1 соответственно. Теоретическое критическое значение при размере нашей выборки равно 0.015. Если второе наше значение меньше 0.015, то гипотеза H0 о том, что наше распределение нормальное отвергается. Что соответствует нашему случаю."
   ]
  },
  {
   "cell_type": "markdown",
   "id": "2b0dd033",
   "metadata": {},
   "source": [
    "Также проверим значение правой асимметрии"
   ]
  },
  {
   "cell_type": "code",
   "execution_count": 35,
   "id": "77a5d918",
   "metadata": {},
   "outputs": [
    {
     "data": {
      "text/plain": [
       "0.511437300164388"
      ]
     },
     "execution_count": 35,
     "metadata": {},
     "output_type": "execute_result"
    }
   ],
   "source": [
    "train_copy['Price'].skew()"
   ]
  },
  {
   "cell_type": "markdown",
   "id": "769551fc",
   "metadata": {},
   "source": [
    "Оно действительно уменьшилось, что нам на руку. Перейдем к обучению модели."
   ]
  },
  {
   "cell_type": "markdown",
   "id": "e4432560",
   "metadata": {},
   "source": [
    "### Простая линейная регрессия"
   ]
  },
  {
   "cell_type": "markdown",
   "id": "8fd50771",
   "metadata": {},
   "source": [
    "Разделим выборку на обучающую в которой будет находиться 80% данных и на валидационную, в которой будет 20% данных. В качестве метрики качества будем использовать среднеквадратичную ошибку и среднюю абсолютную ошибку в процентах."
   ]
  },
  {
   "cell_type": "code",
   "execution_count": 36,
   "id": "80653cba",
   "metadata": {},
   "outputs": [],
   "source": [
    "train_copy_X = train_copy.drop(['Price'], axis=1)\n",
    "train_copy_y = train_copy['Price']"
   ]
  },
  {
   "cell_type": "code",
   "execution_count": 37,
   "id": "6e3bec65",
   "metadata": {},
   "outputs": [],
   "source": [
    "X_train, X_valid, y_train, y_valid = model_selection.train_test_split(train_copy_X, train_copy_y, test_size=0.2, random_state=50)"
   ]
  },
  {
   "cell_type": "code",
   "execution_count": 38,
   "id": "94979f56",
   "metadata": {},
   "outputs": [],
   "source": [
    "linear_regressor = LinearRegression()\n",
    "linear_regressor.fit(X_train, y_train)\n",
    "predictions = linear_regressor.predict(X_valid)"
   ]
  },
  {
   "cell_type": "code",
   "execution_count": 39,
   "id": "f7724896",
   "metadata": {},
   "outputs": [
    {
     "data": {
      "text/plain": [
       "0.011139018752909634"
      ]
     },
     "execution_count": 39,
     "metadata": {},
     "output_type": "execute_result"
    }
   ],
   "source": [
    "mean_squared_error(y_valid, predictions)"
   ]
  },
  {
   "cell_type": "code",
   "execution_count": 40,
   "id": "7ab832d2",
   "metadata": {
    "scrolled": true
   },
   "outputs": [
    {
     "data": {
      "text/plain": [
       "0.8956429898389993"
      ]
     },
     "execution_count": 40,
     "metadata": {},
     "output_type": "execute_result"
    }
   ],
   "source": [
    "np.mean(np.abs((y_valid - predictions) / y_valid)) * 100"
   ]
  },
  {
   "cell_type": "code",
   "execution_count": 41,
   "id": "9e3f2560",
   "metadata": {},
   "outputs": [
    {
     "data": {
      "text/plain": [
       "-0.0012894670971888642"
      ]
     },
     "execution_count": 41,
     "metadata": {},
     "output_type": "execute_result"
    }
   ],
   "source": [
    "resid = y_valid - predictions\n",
    "resid.mean()"
   ]
  },
  {
   "cell_type": "code",
   "execution_count": 42,
   "id": "9dc44743",
   "metadata": {},
   "outputs": [
    {
     "data": {
      "text/plain": [
       "(0.027609922519094665, 0.1260828244988727)"
      ]
     },
     "execution_count": 42,
     "metadata": {},
     "output_type": "execute_result"
    }
   ],
   "source": [
    "import statsmodels.api as sm\n",
    "sm.stats.lilliefors(resid)"
   ]
  },
  {
   "cell_type": "code",
   "execution_count": 43,
   "id": "8c504598",
   "metadata": {},
   "outputs": [
    {
     "data": {
      "text/plain": [
       "Carat Weight   NaN\n",
       "Cut            NaN\n",
       "Color          NaN\n",
       "Clarity        NaN\n",
       "Polish         NaN\n",
       "Symmetry       NaN\n",
       "Report_GIA     NaN\n",
       "dtype: float64"
      ]
     },
     "execution_count": 43,
     "metadata": {},
     "output_type": "execute_result"
    }
   ],
   "source": [
    "X_train.corrwith(resid, method='pearson')"
   ]
  },
  {
   "cell_type": "code",
   "execution_count": 44,
   "id": "367dbc39",
   "metadata": {},
   "outputs": [
    {
     "data": {
      "text/plain": [
       "Text(0, 0.5, 'Predicted Y')"
      ]
     },
     "execution_count": 44,
     "metadata": {},
     "output_type": "execute_result"
    },
    {
     "data": {
      "image/png": "[encoded data removed]",
      "text/plain": [
       "<Figure size 432x288 with 1 Axes>"
      ]
     },
     "metadata": {
      "needs_background": "light"
     },
     "output_type": "display_data"
    }
   ],
   "source": [
    "plt.scatter(y_valid, predictions)\n",
    "plt.xlabel('Y Test')\n",
    "plt.ylabel('Predicted Y')"
   ]
  },
  {
   "cell_type": "code",
   "execution_count": 45,
   "id": "da6722e8",
   "metadata": {},
   "outputs": [
    {
     "data": {
      "text/plain": [
       "array([[1.       , 0.9886064],\n",
       "       [0.9886064, 1.       ]])"
      ]
     },
     "execution_count": 45,
     "metadata": {},
     "output_type": "execute_result"
    }
   ],
   "source": [
    "np.corrcoef(y_valid, predictions)"
   ]
  },
  {
   "cell_type": "markdown",
   "id": "54680d8a",
   "metadata": {},
   "source": [
    "Как видно по метрикам качества, модель хорошо предсказывает цену. Ошибка спрогнозированных значений не превышает 9%. \n",
    "Коэффициент $R^2$, также показывает хороший результат. Также были проверены предположения об ошибках, которые должны выполняться, если вы хотите, чтобы ваша модель выполняла свои функции хорошо. Во-первых, у ошибок нет корреляции с признаками. Во-вторых, ошибки нормально распределены. В-третьих мат. ожидание ошибок близко к нулю. Но попробуем улучшить результат построив модель полиномиальной регрессии второй степени."
   ]
  },
  {
   "cell_type": "code",
   "execution_count": 46,
   "id": "3f27a75a",
   "metadata": {},
   "outputs": [],
   "source": [
    "poly_features = PolynomialFeatures(degree=2, include_bias=False)\n",
    "\n",
    "X_train_poly = poly_features.fit_transform(X_train)\n",
    "X_valid_poly = poly_features.transform(X_valid)"
   ]
  },
  {
   "cell_type": "code",
   "execution_count": 47,
   "id": "5e917533",
   "metadata": {},
   "outputs": [],
   "source": [
    "lm_poly = LinearRegression()"
   ]
  },
  {
   "cell_type": "code",
   "execution_count": 48,
   "id": "16f09cfa",
   "metadata": {},
   "outputs": [],
   "source": [
    "lm_poly.fit(X_train_poly, y_train)\n",
    "\n",
    "predictions_poly = lm_poly.predict(X_valid_poly)"
   ]
  },
  {
   "cell_type": "code",
   "execution_count": 49,
   "id": "d6d0b4c1",
   "metadata": {
    "scrolled": true
   },
   "outputs": [
    {
     "data": {
      "text/plain": [
       "Text(0, 0.5, 'Predicted Y')"
      ]
     },
     "execution_count": 49,
     "metadata": {},
     "output_type": "execute_result"
    },
    {
     "data": {
      "image/png": "[encoded data removed]",
      "text/plain": [
       "<Figure size 432x288 with 1 Axes>"
      ]
     },
     "metadata": {
      "needs_background": "light"
     },
     "output_type": "display_data"
    }
   ],
   "source": [
    "plt.scatter(y_valid,predictions_poly)\n",
    "plt.xlabel('Y Test')\n",
    "plt.ylabel('Predicted Y')"
   ]
  },
  {
   "cell_type": "code",
   "execution_count": 50,
   "id": "f50c8081",
   "metadata": {},
   "outputs": [
    {
     "data": {
      "text/plain": [
       "0.006118280143595965"
      ]
     },
     "execution_count": 50,
     "metadata": {},
     "output_type": "execute_result"
    }
   ],
   "source": [
    "mean_squared_error(y_valid, predictions_poly)"
   ]
  },
  {
   "cell_type": "code",
   "execution_count": 51,
   "id": "16eb7bbc",
   "metadata": {},
   "outputs": [
    {
     "data": {
      "text/plain": [
       "0.6738432199656392"
      ]
     },
     "execution_count": 51,
     "metadata": {},
     "output_type": "execute_result"
    }
   ],
   "source": [
    "np.mean(np.abs((y_valid - predictions_poly) / y_valid)) * 100"
   ]
  },
  {
   "cell_type": "code",
   "execution_count": 52,
   "id": "127d9467",
   "metadata": {
    "scrolled": true
   },
   "outputs": [
    {
     "data": {
      "text/plain": [
       "array([[1.        , 0.99375436],\n",
       "       [0.99375436, 1.        ]])"
      ]
     },
     "execution_count": 52,
     "metadata": {},
     "output_type": "execute_result"
    }
   ],
   "source": [
    "np.corrcoef(y_valid, predictions_poly)"
   ]
  },
  {
   "cell_type": "code",
   "execution_count": 53,
   "id": "8051a3a2",
   "metadata": {},
   "outputs": [
    {
     "data": {
      "text/plain": [
       "1.635294580303734e-05"
      ]
     },
     "execution_count": 53,
     "metadata": {},
     "output_type": "execute_result"
    }
   ],
   "source": [
    "resid_poly = y_valid - predictions_poly\n",
    "resid_poly.mean()"
   ]
  },
  {
   "cell_type": "code",
   "execution_count": 54,
   "id": "f91d9be0",
   "metadata": {},
   "outputs": [
    {
     "data": {
      "text/plain": [
       "(0.025163289918478132, 0.22299867622941388)"
      ]
     },
     "execution_count": 54,
     "metadata": {},
     "output_type": "execute_result"
    }
   ],
   "source": [
    "import statsmodels.api as sm\n",
    "sm.stats.lilliefors(resid_poly)"
   ]
  },
  {
   "cell_type": "markdown",
   "id": "414f2793",
   "metadata": {},
   "source": [
    "Добавлением к регрессии второй степени удалось улучшить метрики качества. Также, как в предыдущем пункте были соблюдены необходимые предположения об ошибках. А следовательно модель справилась со своей задачей и хорошо спрогнозировала значения. Наконец, спрогнозируем цену на 1500 бриллиантов без цены."
   ]
  },
  {
   "cell_type": "markdown",
   "id": "5089d5b9",
   "metadata": {},
   "source": [
    "### Прогноз цены на тестовой выборке"
   ]
  },
  {
   "cell_type": "markdown",
   "id": "5300519c",
   "metadata": {},
   "source": [
    "Так как полиномиальная регрессия показала лучший результат - будем использовать эту модель для прогноза."
   ]
  },
  {
   "cell_type": "code",
   "execution_count": 55,
   "id": "0167d95c",
   "metadata": {},
   "outputs": [],
   "source": [
    "test_copy = test.copy()"
   ]
  },
  {
   "cell_type": "code",
   "execution_count": 56,
   "id": "31c016e1",
   "metadata": {},
   "outputs": [],
   "source": [
    "test_copy = test_copy.fillna(test_copy.mean())"
   ]
  },
  {
   "cell_type": "code",
   "execution_count": 57,
   "id": "75e136a6",
   "metadata": {},
   "outputs": [],
   "source": [
    "test_copy['Carat Weight'] = np.log(test_copy['Carat Weight'])"
   ]
  },
  {
   "cell_type": "code",
   "execution_count": 58,
   "id": "3927a27a",
   "metadata": {},
   "outputs": [],
   "source": [
    "test_copy_X = test_copy.drop(['Price'], axis=1)\n",
    "test_copy_y = test_copy['Price']"
   ]
  },
  {
   "cell_type": "code",
   "execution_count": 59,
   "id": "cc9a31e6",
   "metadata": {},
   "outputs": [],
   "source": [
    "X_test_poly = poly_features.transform(test_copy_X)"
   ]
  },
  {
   "cell_type": "code",
   "execution_count": 60,
   "id": "44106130",
   "metadata": {},
   "outputs": [],
   "source": [
    "predictions_test = lm_poly.predict(X_test_poly)"
   ]
  },
  {
   "cell_type": "code",
   "execution_count": 61,
   "id": "96f24f69",
   "metadata": {},
   "outputs": [],
   "source": [
    "test_predictions_poly = np.exp(predictions_test)\n",
    "test_copy['Carat Weight'] = np.exp(test_copy['Carat Weight'])"
   ]
  },
  {
   "cell_type": "code",
   "execution_count": 62,
   "id": "83bb0e63",
   "metadata": {},
   "outputs": [],
   "source": [
    "test_copy['Price'] = test_predictions_poly  "
   ]
  },
  {
   "cell_type": "code",
   "execution_count": 63,
   "id": "cc67e560",
   "metadata": {
    "scrolled": false
   },
   "outputs": [
    {
     "name": "stderr",
     "output_type": "stream",
     "text": [
      "C:\\ProgramData\\Anaconda3\\lib\\site-packages\\seaborn\\distributions.py:2619: FutureWarning: `distplot` is a deprecated function and will be removed in a future version. Please adapt your code to use either `displot` (a figure-level function with similar flexibility) or `histplot` (an axes-level function for histograms).\n",
      "  warnings.warn(msg, FutureWarning)\n",
      "C:\\ProgramData\\Anaconda3\\lib\\site-packages\\seaborn\\_decorators.py:36: FutureWarning: Pass the following variable as a keyword arg: x. From version 0.12, the only valid positional argument will be `data`, and passing other arguments without an explicit keyword will result in an error or misinterpretation.\n",
      "  warnings.warn(\n",
      "C:\\ProgramData\\Anaconda3\\lib\\site-packages\\seaborn\\distributions.py:2619: FutureWarning: `distplot` is a deprecated function and will be removed in a future version. Please adapt your code to use either `displot` (a figure-level function with similar flexibility) or `histplot` (an axes-level function for histograms).\n",
      "  warnings.warn(msg, FutureWarning)\n",
      "C:\\ProgramData\\Anaconda3\\lib\\site-packages\\seaborn\\_decorators.py:36: FutureWarning: Pass the following variable as a keyword arg: x. From version 0.12, the only valid positional argument will be `data`, and passing other arguments without an explicit keyword will result in an error or misinterpretation.\n",
      "  warnings.warn(\n"
     ]
    },
    {
     "data": {
      "text/plain": [
       "Text(0.5, 1.0, '\"Ящик с усами\" цены')"
      ]
     },
     "execution_count": 63,
     "metadata": {},
     "output_type": "execute_result"
    },
    {
     "data": {
      "image/png": "[encoded data removed]",
      "text/plain": [
       "<Figure size 1152x432 with 2 Axes>"
      ]
     },
     "metadata": {
      "needs_background": "light"
     },
     "output_type": "display_data"
    },
    {
     "data": {
      "image/png": "[encoded data removed]",
      "text/plain": [
       "<Figure size 1152x432 with 2 Axes>"
      ]
     },
     "metadata": {
      "needs_background": "light"
     },
     "output_type": "display_data"
    }
   ],
   "source": [
    "plt.figure(figsize = (16, 6))\n",
    "\n",
    "pylab.subplot(1,2,1)\n",
    "sns.distplot(test_copy['Price'])\n",
    "pylab.title('Гистограмма и кривая распределения спрогнозированной цены')\n",
    "\n",
    "pylab.subplot(1,2,2)\n",
    "sns.boxplot(test_copy['Price'])\n",
    "pylab.title('\"Ящик с усами\" спрогнозированной цены')\n",
    "\n",
    "plt.figure(figsize = (16, 6))\n",
    "\n",
    "pylab.subplot(1,2,1)\n",
    "sns.distplot(train['Price'])\n",
    "pylab.title('Гистограмма и кривая распределения цены')\n",
    "\n",
    "pylab.subplot(1,2,2)\n",
    "sns.boxplot(train['Price'])\n",
    "pylab.title('\"Ящик с усами\" цены')"
   ]
  },
  {
   "cell_type": "code",
   "execution_count": 64,
   "id": "5f729284",
   "metadata": {
    "scrolled": true
   },
   "outputs": [
    {
     "data": {
      "text/html": [
       "<div>\n",
       "<style scoped>\n",
       "    .dataframe tbody tr th:only-of-type {\n",
       "        vertical-align: middle;\n",
       "    }\n",
       "\n",
       "    .dataframe tbody tr th {\n",
       "        vertical-align: top;\n",
       "    }\n",
       "\n",
       "    .dataframe thead th {\n",
       "        text-align: right;\n",
       "    }\n",
       "</style>\n",
       "<table border=\"1\" class=\"dataframe\">\n",
       "  <thead>\n",
       "    <tr style=\"text-align: right;\">\n",
       "      <th></th>\n",
       "      <th>Carat Weight</th>\n",
       "      <th>Cut</th>\n",
       "      <th>Color</th>\n",
       "      <th>Clarity</th>\n",
       "      <th>Polish</th>\n",
       "      <th>Symmetry</th>\n",
       "      <th>Price</th>\n",
       "      <th>Report_GIA</th>\n",
       "    </tr>\n",
       "  </thead>\n",
       "  <tbody>\n",
       "    <tr>\n",
       "      <th>count</th>\n",
       "      <td>1500.000000</td>\n",
       "      <td>1500.000000</td>\n",
       "      <td>1500.000000</td>\n",
       "      <td>1500.000000</td>\n",
       "      <td>1500.000000</td>\n",
       "      <td>1500.000000</td>\n",
       "      <td>1500.000000</td>\n",
       "      <td>1500.000000</td>\n",
       "    </tr>\n",
       "    <tr>\n",
       "      <th>mean</th>\n",
       "      <td>1.344167</td>\n",
       "      <td>4.358906</td>\n",
       "      <td>4.258172</td>\n",
       "      <td>2.347565</td>\n",
       "      <td>2.518667</td>\n",
       "      <td>2.414276</td>\n",
       "      <td>11964.772823</td>\n",
       "      <td>0.883333</td>\n",
       "    </tr>\n",
       "    <tr>\n",
       "      <th>std</th>\n",
       "      <td>0.477557</td>\n",
       "      <td>0.822024</td>\n",
       "      <td>1.546065</td>\n",
       "      <td>1.364742</td>\n",
       "      <td>0.779352</td>\n",
       "      <td>0.841603</td>\n",
       "      <td>10254.007438</td>\n",
       "      <td>0.321130</td>\n",
       "    </tr>\n",
       "    <tr>\n",
       "      <th>min</th>\n",
       "      <td>0.750000</td>\n",
       "      <td>2.000000</td>\n",
       "      <td>2.000000</td>\n",
       "      <td>1.000000</td>\n",
       "      <td>1.000000</td>\n",
       "      <td>1.000000</td>\n",
       "      <td>2380.604783</td>\n",
       "      <td>0.000000</td>\n",
       "    </tr>\n",
       "    <tr>\n",
       "      <th>25%</th>\n",
       "      <td>1.010000</td>\n",
       "      <td>4.000000</td>\n",
       "      <td>3.000000</td>\n",
       "      <td>1.000000</td>\n",
       "      <td>2.000000</td>\n",
       "      <td>2.000000</td>\n",
       "      <td>5123.224905</td>\n",
       "      <td>1.000000</td>\n",
       "    </tr>\n",
       "    <tr>\n",
       "      <th>50%</th>\n",
       "      <td>1.140000</td>\n",
       "      <td>4.000000</td>\n",
       "      <td>4.000000</td>\n",
       "      <td>2.000000</td>\n",
       "      <td>3.000000</td>\n",
       "      <td>2.000000</td>\n",
       "      <td>7743.171340</td>\n",
       "      <td>1.000000</td>\n",
       "    </tr>\n",
       "    <tr>\n",
       "      <th>75%</th>\n",
       "      <td>1.620000</td>\n",
       "      <td>5.000000</td>\n",
       "      <td>5.000000</td>\n",
       "      <td>3.000000</td>\n",
       "      <td>3.000000</td>\n",
       "      <td>3.000000</td>\n",
       "      <td>15769.942381</td>\n",
       "      <td>1.000000</td>\n",
       "    </tr>\n",
       "    <tr>\n",
       "      <th>max</th>\n",
       "      <td>2.820000</td>\n",
       "      <td>6.000000</td>\n",
       "      <td>7.000000</td>\n",
       "      <td>7.000000</td>\n",
       "      <td>4.000000</td>\n",
       "      <td>4.000000</td>\n",
       "      <td>80985.260795</td>\n",
       "      <td>1.000000</td>\n",
       "    </tr>\n",
       "  </tbody>\n",
       "</table>\n",
       "</div>"
      ],
      "text/plain": [
       "       Carat Weight          Cut        Color      Clarity       Polish  \\\n",
       "count   1500.000000  1500.000000  1500.000000  1500.000000  1500.000000   \n",
       "mean       1.344167     4.358906     4.258172     2.347565     2.518667   \n",
       "std        0.477557     0.822024     1.546065     1.364742     0.779352   \n",
       "min        0.750000     2.000000     2.000000     1.000000     1.000000   \n",
       "25%        1.010000     4.000000     3.000000     1.000000     2.000000   \n",
       "50%        1.140000     4.000000     4.000000     2.000000     3.000000   \n",
       "75%        1.620000     5.000000     5.000000     3.000000     3.000000   \n",
       "max        2.820000     6.000000     7.000000     7.000000     4.000000   \n",
       "\n",
       "          Symmetry         Price   Report_GIA  \n",
       "count  1500.000000   1500.000000  1500.000000  \n",
       "mean      2.414276  11964.772823     0.883333  \n",
       "std       0.841603  10254.007438     0.321130  \n",
       "min       1.000000   2380.604783     0.000000  \n",
       "25%       2.000000   5123.224905     1.000000  \n",
       "50%       2.000000   7743.171340     1.000000  \n",
       "75%       3.000000  15769.942381     1.000000  \n",
       "max       4.000000  80985.260795     1.000000  "
      ]
     },
     "execution_count": 64,
     "metadata": {},
     "output_type": "execute_result"
    }
   ],
   "source": [
    "test_copy.describe()"
   ]
  },
  {
   "cell_type": "code",
   "execution_count": 65,
   "id": "b16df4da",
   "metadata": {},
   "outputs": [
    {
     "data": {
      "text/html": [
       "<div>\n",
       "<style scoped>\n",
       "    .dataframe tbody tr th:only-of-type {\n",
       "        vertical-align: middle;\n",
       "    }\n",
       "\n",
       "    .dataframe tbody tr th {\n",
       "        vertical-align: top;\n",
       "    }\n",
       "\n",
       "    .dataframe thead th {\n",
       "        text-align: right;\n",
       "    }\n",
       "</style>\n",
       "<table border=\"1\" class=\"dataframe\">\n",
       "  <thead>\n",
       "    <tr style=\"text-align: right;\">\n",
       "      <th></th>\n",
       "      <th>Carat Weight</th>\n",
       "      <th>Cut</th>\n",
       "      <th>Color</th>\n",
       "      <th>Clarity</th>\n",
       "      <th>Polish</th>\n",
       "      <th>Symmetry</th>\n",
       "      <th>Price</th>\n",
       "      <th>Report_GIA</th>\n",
       "    </tr>\n",
       "  </thead>\n",
       "  <tbody>\n",
       "    <tr>\n",
       "      <th>count</th>\n",
       "      <td>4498.000000</td>\n",
       "      <td>4497.000000</td>\n",
       "      <td>4499.000000</td>\n",
       "      <td>4500.000000</td>\n",
       "      <td>4499.000000</td>\n",
       "      <td>4499.000000</td>\n",
       "      <td>4498.000000</td>\n",
       "      <td>4500.000000</td>\n",
       "    </tr>\n",
       "    <tr>\n",
       "      <th>mean</th>\n",
       "      <td>1.331274</td>\n",
       "      <td>4.329553</td>\n",
       "      <td>4.255835</td>\n",
       "      <td>2.376667</td>\n",
       "      <td>2.503890</td>\n",
       "      <td>2.386530</td>\n",
       "      <td>11680.771240</td>\n",
       "      <td>0.875778</td>\n",
       "    </tr>\n",
       "    <tr>\n",
       "      <th>std</th>\n",
       "      <td>0.475013</td>\n",
       "      <td>0.819524</td>\n",
       "      <td>1.566840</td>\n",
       "      <td>1.372300</td>\n",
       "      <td>0.805534</td>\n",
       "      <td>0.871313</td>\n",
       "      <td>10063.376832</td>\n",
       "      <td>0.329872</td>\n",
       "    </tr>\n",
       "    <tr>\n",
       "      <th>min</th>\n",
       "      <td>0.750000</td>\n",
       "      <td>2.000000</td>\n",
       "      <td>2.000000</td>\n",
       "      <td>1.000000</td>\n",
       "      <td>1.000000</td>\n",
       "      <td>1.000000</td>\n",
       "      <td>0.001000</td>\n",
       "      <td>0.000000</td>\n",
       "    </tr>\n",
       "    <tr>\n",
       "      <th>25%</th>\n",
       "      <td>1.000000</td>\n",
       "      <td>4.000000</td>\n",
       "      <td>3.000000</td>\n",
       "      <td>1.000000</td>\n",
       "      <td>2.000000</td>\n",
       "      <td>2.000000</td>\n",
       "      <td>5128.750000</td>\n",
       "      <td>1.000000</td>\n",
       "    </tr>\n",
       "    <tr>\n",
       "      <th>50%</th>\n",
       "      <td>1.130000</td>\n",
       "      <td>4.000000</td>\n",
       "      <td>4.000000</td>\n",
       "      <td>2.000000</td>\n",
       "      <td>3.000000</td>\n",
       "      <td>2.000000</td>\n",
       "      <td>7871.000000</td>\n",
       "      <td>1.000000</td>\n",
       "    </tr>\n",
       "    <tr>\n",
       "      <th>75%</th>\n",
       "      <td>1.580000</td>\n",
       "      <td>5.000000</td>\n",
       "      <td>5.000000</td>\n",
       "      <td>3.000000</td>\n",
       "      <td>3.000000</td>\n",
       "      <td>3.000000</td>\n",
       "      <td>14952.250000</td>\n",
       "      <td>1.000000</td>\n",
       "    </tr>\n",
       "    <tr>\n",
       "      <th>max</th>\n",
       "      <td>2.910000</td>\n",
       "      <td>6.000000</td>\n",
       "      <td>7.000000</td>\n",
       "      <td>7.000000</td>\n",
       "      <td>4.000000</td>\n",
       "      <td>4.000000</td>\n",
       "      <td>101561.000000</td>\n",
       "      <td>1.000000</td>\n",
       "    </tr>\n",
       "  </tbody>\n",
       "</table>\n",
       "</div>"
      ],
      "text/plain": [
       "       Carat Weight          Cut        Color      Clarity       Polish  \\\n",
       "count   4498.000000  4497.000000  4499.000000  4500.000000  4499.000000   \n",
       "mean       1.331274     4.329553     4.255835     2.376667     2.503890   \n",
       "std        0.475013     0.819524     1.566840     1.372300     0.805534   \n",
       "min        0.750000     2.000000     2.000000     1.000000     1.000000   \n",
       "25%        1.000000     4.000000     3.000000     1.000000     2.000000   \n",
       "50%        1.130000     4.000000     4.000000     2.000000     3.000000   \n",
       "75%        1.580000     5.000000     5.000000     3.000000     3.000000   \n",
       "max        2.910000     6.000000     7.000000     7.000000     4.000000   \n",
       "\n",
       "          Symmetry          Price   Report_GIA  \n",
       "count  4499.000000    4498.000000  4500.000000  \n",
       "mean      2.386530   11680.771240     0.875778  \n",
       "std       0.871313   10063.376832     0.329872  \n",
       "min       1.000000       0.001000     0.000000  \n",
       "25%       2.000000    5128.750000     1.000000  \n",
       "50%       2.000000    7871.000000     1.000000  \n",
       "75%       3.000000   14952.250000     1.000000  \n",
       "max       4.000000  101561.000000     1.000000  "
      ]
     },
     "execution_count": 65,
     "metadata": {},
     "output_type": "execute_result"
    }
   ],
   "source": [
    "train.describe()"
   ]
  },
  {
   "cell_type": "markdown",
   "id": "8ef3190c",
   "metadata": {},
   "source": [
    "Итак, удалось спрогнозировать цены на бриллианты. Как видно на графиках и на статистиках модель хорошо спрогнозировала цены на бриллианты."
   ]
  }
 ],
 "metadata": {
  "kernelspec": {
   "display_name": "Python 3 (ipykernel)",
   "language": "python",
   "name": "python3"
  },
  "language_info": {
   "codemirror_mode": {
    "name": "ipython",
    "version": 3
   },
   "file_extension": ".py",
   "mimetype": "text/x-python",
   "name": "python",
   "nbconvert_exporter": "python",
   "pygments_lexer": "ipython3",
   "version": "3.9.7"
  }
 },
 "nbformat": 4,
 "nbformat_minor": 5
}
